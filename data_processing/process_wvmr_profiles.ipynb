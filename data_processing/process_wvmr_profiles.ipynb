{
 "cells": [
  {
   "cell_type": "markdown",
   "id": "68405d11-f8fa-4796-b3cf-b504bb3f95bb",
   "metadata": {},
   "source": [
    "This notebook aims to process the data measured by the LiDAR CORAL. We measured waer vapour mixing ratio (MR). Unfortunately, the data is very heavy to store, so we first concatenate it in a simpler way before storing it in the folder data/processed/data."
   ]
  },
  {
   "cell_type": "code",
   "execution_count": 1,
   "id": "77feb51c-9689-4b71-9dae-356adf0f80a7",
   "metadata": {},
   "outputs": [],
   "source": [
    "import xarray as xr\n",
    "import numpy as np\n",
    "import intake\n",
    "import pandas as pd\n",
    "import matplotlib.pyplot as plt\n",
    "%load_ext memory_profiler\n",
    "import matplotlib.gridspec as gridspec\n",
    "from scipy.stats import ttest_ind\n",
    "import seaborn as sns\n",
    "import matplotlib as mpl\n",
    "from mpl_toolkits.axes_grid1.inset_locator import inset_axes\n",
    "import eurec4a\n"
   ]
  },
  {
   "cell_type": "markdown",
   "id": "2d5fb104-dbc0-4600-986a-5ccf7913126f",
   "metadata": {},
   "source": [
    "## Get the wvmr data and the clouds data processed in the code process_LW_BCO_data"
   ]
  },
  {
   "cell_type": "code",
   "execution_count": 2,
   "id": "e19356ea-ce04-4a13-9c8b-c5fdd798cd9a",
   "metadata": {},
   "outputs": [],
   "source": [
    "MR = xr.open_dataset('./../data/MR.nc')['water vapour mixing ratio']\n",
    "windspeed = xr.open_dataset('./../data/windspeed_eurec4a.nc')['wind_speed']\n",
    "windspeed_avg = windspeed.sel(range = 1000, method = 'nearest').mean(dim = 'time')\n",
    "start_time = np.datetime64('2020-01-12T10:00:00')\n",
    "end_time   = np.datetime64('2020-02-28T23:59:59')"
   ]
  },
  {
   "cell_type": "code",
   "execution_count": 3,
   "id": "c8ac44bf-b938-465b-ae1b-53352ac2c3f5",
   "metadata": {},
   "outputs": [],
   "source": [
    "#We load the cloud borders array that has been processed in the code \"process_LW_BCO_data.ipynb\"\n",
    "clouds = np.loadtxt('./../data/processed_data/cloud_borders_2020.txt', delimiter=',', dtype='object') \n",
    "clouds[:, 0] = np.array(clouds[:, 0], dtype='datetime64[s]')\n",
    "clouds[:, 1] = np.array(clouds[:, 1], dtype='datetime64[s]')\n",
    "clouds[:, 2] = np.array(clouds[:, 2], dtype='float64')\n",
    "clouds[:, 3] = np.array(clouds[:, 3], dtype='float64')\n",
    "clouds[:, 4] = np.array(clouds[:, 4], dtype='float64')\n",
    "clouds[:, 5] = np.array(clouds[:, 5], dtype='float64')\n",
    "\n",
    "#Since MR data is only available during Januray February (EUREC4A period), we restric our clouds during that time\n",
    "clouds_time = clouds[(clouds[:, 0] >= start_time) & (clouds[:, 0] <= end_time)]\n"
   ]
  },
  {
   "cell_type": "code",
   "execution_count": 51,
   "id": "5f4bdfdd-4dd1-4f70-a4d8-d71e3e0821fc",
   "metadata": {},
   "outputs": [],
   "source": [
    "\"\"\"\n",
    "As in the LW_down code we want to avoid cross-contamination. Therefore, we put NaN each time a cloud is measure in the MR data.\n",
    "This avoids to have very high MR in our vertical profiles that come from clouds. This will only be sued when we look at vertical profiles as a function of \n",
    "distance to the cloud (as clouds might be in these distance bins, so we don't wanna include their values). When looking at different gap length, we study regions\n",
    "without gap, so this does not matter.\n",
    "\n",
    "As a reminder, we focus on the surroundings of clouds, and we are therefore not interested in clouds values.\n",
    "\"\"\"\n",
    "def mask_clouds(MR, clouds):\n",
    "    for cloud in clouds:\n",
    "        start_time = np.datetime64(cloud[0])\n",
    "        end_time = np.datetime64(cloud[1])\n",
    "        \n",
    "\n",
    "        # Mask the values in MR for the given time range\n",
    "        MR = MR.where(~((MR.time >= start_time) & (MR.time <= end_time)), np.nan)\n",
    "        \n",
    "    return MR"
   ]
  },
  {
   "cell_type": "code",
   "execution_count": 39,
   "id": "8b299595-6527-4044-957f-b9a1301371a1",
   "metadata": {},
   "outputs": [],
   "source": [
    "masked_MR = mask_clouds(MR, clouds_time)"
   ]
  },
  {
   "cell_type": "code",
   "execution_count": 40,
   "id": "46b4ff8b-fe14-40f9-a6e4-7e990c73af06",
   "metadata": {},
   "outputs": [],
   "source": [
    "masked_MR.to_netcdf('./../data/processed_data/masked_MR.nc')"
   ]
  },
  {
   "cell_type": "code",
   "execution_count": 6,
   "id": "67e9bee4-2f27-4be6-b672-5dc51b37d959",
   "metadata": {},
   "outputs": [],
   "source": [
    "masked_MR = xr.open_dataset('./../data/processed_data/masked_MR.nc')['water vapour mixing ratio']"
   ]
  },
  {
   "cell_type": "markdown",
   "id": "03311ac3-d5eb-4503-82b8-94c6be6127b9",
   "metadata": {},
   "source": [
    "## Process data as a function of gap length"
   ]
  },
  {
   "cell_type": "markdown",
   "id": "8ec5dfff-55eb-44a2-806b-d2ec6f5efb5a",
   "metadata": {},
   "source": [
    "In this part of the code we process the data as a function of gap length. This is a preparation for plot ???\n",
    "We separate the data into MR profiles with information on the gap length for each cloud gap. Then we store the data in the folder data/processed_data/vertical_profiles"
   ]
  },
  {
   "cell_type": "code",
   "execution_count": 8,
   "id": "8adf2a73-93e0-40cc-a1b5-2edead4edee9",
   "metadata": {},
   "outputs": [],
   "source": [
    "def mr_profile_gaps(MR, clouds):\n",
    "    \"\"\"\n",
    "    This function takes the vertical profiles of MR in between clouds, i.e., in the gaps. Furthermore, it stores the vertical profiles as averaged over the entire \n",
    "    gaps by including the gap length for each profile. This will allow later to plot the MR profiles as a function of gap length\n",
    "\n",
    "    Inputs:\n",
    "    - MR data from the LiDAR\n",
    "    - clouds array with their start and endtime\n",
    "\n",
    "    Outputs:\n",
    "    - combined_gaps: these are the combined averaged vertical profiles between clouds (in the gaps). Each vertical profile has information about its gap length \n",
    "    associated to it.\n",
    "    \"\"\"\n",
    "    gaps = []\n",
    "    gap_lengths = []\n",
    "\n",
    "    MR = MR.chunk({\"time\": 1000, \"alt\": 201})\n",
    "    \n",
    "    # Ensure clouds are sorted by start time\n",
    "    clouds = clouds[np.argsort(clouds[:, 0])]\n",
    "\n",
    "    for i in range(len(clouds) - 1):\n",
    "        # Get the end time of the current cloud and the start time of the next cloud\n",
    "        end_time_current, start_time_next = clouds[i, 1], clouds[i + 1, 0]\n",
    "        \n",
    "        # Select the MR values between the end of the current cloud and the start of the next cloud\n",
    "        gap = MR.sel(time=slice(end_time_current, start_time_next)).compute()\n",
    "        \n",
    "        # Determine the length of the gap in number of time points\n",
    "        gap_length = len(gap.time)\n",
    "        \n",
    "        # Filter and average the gap values\n",
    "        gap = gap.where((gap <= 0.03) & (gap >= 0.0001), drop=True)\n",
    "        gap = gap.mean(dim='time')\n",
    "        \n",
    "        # Add the gap MR values and their length to the respective lists\n",
    "        gaps.append(gap)\n",
    "        gap_lengths.append(gap_length)\n",
    "\n",
    "    # Combine all gaps into a single DataArray with a new 'gaps' dimension\n",
    "    combined_gaps = xr.concat(gaps, dim='gaps')\n",
    "    \n",
    "    # Add the gap lengths as a coordinate to the combined DataArray\n",
    "    combined_gaps = combined_gaps.assign_coords(gap_length=('gaps', gap_lengths))\n",
    "\n",
    "    return combined_gaps"
   ]
  },
  {
   "cell_type": "code",
   "execution_count": 10,
   "id": "ccc26335-48d6-4169-8d63-32bb5d133b85",
   "metadata": {},
   "outputs": [
    {
     "name": "stdout",
     "output_type": "stream",
     "text": [
      "CPU times: user 1min 8s, sys: 5.9 s, total: 1min 13s\n",
      "Wall time: 1min 14s\n"
     ]
    }
   ],
   "source": [
    "%%time\n",
    "combined_gaps = mr_profile_gaps(MR, clouds_time)"
   ]
  },
  {
   "cell_type": "code",
   "execution_count": 11,
   "id": "fd7f1b76-ae47-4aea-a8be-ae8a7273819b",
   "metadata": {},
   "outputs": [],
   "source": [
    "combined_gaps.to_netcdf('./../data/processed_data/combined_gaps.nc')"
   ]
  },
  {
   "cell_type": "markdown",
   "id": "fc5e386d-824f-423f-80c6-30eb33c5a4e8",
   "metadata": {},
   "source": [
    "## processing of data up/downwind and for shallow/deep clouds as a function of distance"
   ]
  },
  {
   "cell_type": "markdown",
   "id": "1ce1eb52-5762-4608-b942-102389238f19",
   "metadata": {},
   "source": [
    "Similar as before, but this time we process the data into different bins of distance to clouds. Therefore, we average vertical profiles of MR at different distances from all the observed clouds. we separate the analysis into 2: deep and shallow clouds, and separate the atmosphere in two: up and downwind"
   ]
  },
  {
   "cell_type": "code",
   "execution_count": 13,
   "id": "7c84692a-8689-46ee-90f4-630161164771",
   "metadata": {},
   "outputs": [],
   "source": [
    "\"\"\"\n",
    "this function creates two vertical profiles, up and downwind, and bins it into a certain amount of bins defined by distance_bins (each bin correspnds to a certain distance from the cloud).\n",
    "Changing this parameter, changes the amount of bins that we have at the end. \n",
    "\"\"\"\n",
    "def mr_profile_distances_with_bins_up_down(MR, clouds, distance_bins, windspeed_avg):\n",
    "    profiles_before = []\n",
    "    profiles_after = []\n",
    "\n",
    "    MR = MR.chunk({\"time\": 1000, \"alt\": 201})\n",
    "    delta_time = np.timedelta64(60, 'm')\n",
    "\n",
    "    # Convert distance bins to time bins based on windspeed_avg\n",
    "    time_bins = [(np.timedelta64(int(lower / windspeed_avg), 's'), np.timedelta64(int(upper / windspeed_avg), 's')) \n",
    "                 for lower, upper in distance_bins]\n",
    "    \n",
    "\n",
    "    #create a profile for each cloud by taking the wvmr before and after the cloud\n",
    "    for cloud_index, cloud_times in enumerate(clouds):\n",
    "        start_time_cloud = np.datetime64(cloud_times[0])\n",
    "        end_time_cloud = np.datetime64(cloud_times[1])\n",
    "        \n",
    "        end_time = end_time_cloud + delta_time\n",
    "        start_time = start_time_cloud - delta_time\n",
    "        \n",
    "        # Select the MR values between the specified indices after the cloud\n",
    "        MR_after_cloud = MR.sel(time=slice(end_time_cloud, end_time)).compute()\n",
    "        MR_after_cloud = MR_after_cloud.where((MR_after_cloud <= 0.03) & (MR_after_cloud >= 0.0001), drop=True)\n",
    "\n",
    "        # Select the MR values between the specified indices before the cloud\n",
    "        MR_before_cloud = MR.sel(time=slice(start_time, start_time_cloud)).compute()\n",
    "        MR_before_cloud = MR_before_cloud.where((MR_before_cloud <= 0.03) & (MR_before_cloud >= 0.0001), drop=True)\n",
    "\n",
    "        bin_profiles_after = []\n",
    "        bin_profiles_before = []\n",
    "\n",
    "        # Process before cloud, taking wvmr in the distances (/time) corresponding to each bin\n",
    "        for bin_index, (start_bin, end_bin) in enumerate(time_bins):\n",
    "            bin_start_time = start_time_cloud - start_bin\n",
    "            bin_end_time = start_time_cloud - end_bin\n",
    "            MR_in_bin = MR_before_cloud.sel(time=slice(bin_end_time, bin_start_time)).mean(dim='time')\n",
    "            MR_in_bin = MR_in_bin.assign_coords(profile=f'bin_{bin_index}')\n",
    "            bin_profiles_before.append(MR_in_bin)\n",
    "            \n",
    "        # Process after cloud, same as before but upwind\n",
    "        for bin_index, (start_bin, end_bin) in enumerate(time_bins):\n",
    "            bin_start_time = end_time_cloud + start_bin\n",
    "            bin_end_time = end_time_cloud + end_bin\n",
    "            MR_in_bin = MR_after_cloud.sel(time=slice(bin_start_time, bin_end_time)).mean(dim='time')\n",
    "            MR_in_bin = MR_in_bin.assign_coords(profile=f'bin_{bin_index}')\n",
    "            bin_profiles_after.append(MR_in_bin)\n",
    "        \n",
    "        \n",
    "        # Concatenate profiles along a new dimension for this cloud\n",
    "        cloud_profile_before = xr.concat(bin_profiles_before, dim='bin')\n",
    "        cloud_profile_after = xr.concat(bin_profiles_after, dim='bin')\n",
    "        \n",
    "        profiles_before.append(cloud_profile_before)\n",
    "        profiles_after.append(cloud_profile_after)\n",
    "\n",
    "    # Concatenate all cloud profiles along a new dimension\n",
    "    combined_profiles_before = xr.concat(profiles_before, dim='cloud')\n",
    "    combined_profiles_after = xr.concat(profiles_after, dim='cloud')\n",
    "\n",
    "    return combined_profiles_before, combined_profiles_after\n"
   ]
  },
  {
   "cell_type": "code",
   "execution_count": 17,
   "id": "9d01ae9b-5a01-4d8a-9e65-e4c085dd1571",
   "metadata": {},
   "outputs": [],
   "source": [
    "clouds_deep = clouds_time[(clouds_time[:,2] >= 40) & (clouds_time[:,3] <= 1500) & (clouds_time[:,2] <= 10000) & ((clouds_time[:,4] - clouds_time[:,3]) >= 600) & ((clouds_time[:,4] - clouds_time[:,3]) <= 2500)]\n",
    "clouds_shallow = clouds_time[(clouds_time[:,2] >= 40) & (clouds_time[:,3] <= 1500) & (clouds_time[:,2] <= 10000) & ((clouds_time[:,4] - clouds_time[:,3]) >= 100) & ((clouds_time[:,4] - clouds_time[:,3]) <= 700)]"
   ]
  },
  {
   "cell_type": "code",
   "execution_count": 18,
   "id": "e01577b6-2fd6-478d-9a32-5dae1223eb3b",
   "metadata": {},
   "outputs": [
    {
     "name": "stdout",
     "output_type": "stream",
     "text": [
      "CPU times: user 2min 23s, sys: 9.58 s, total: 2min 33s\n",
      "Wall time: 2min 33s\n"
     ]
    }
   ],
   "source": [
    "%%time\n",
    "distance_bins = [(500, 2000), (2000, 4000), (6000, 10000), (10000, 20000)]\n",
    "\n",
    "combined_profiles_before_shallow, combined_profiles_after_shallow = mr_profile_distances_with_bins_up_down(masked_MR, clouds_shallow, distance_bins, windspeed_avg.item())\n",
    "combined_profiles_before_deep, combined_profiles_after_deep = mr_profile_distances_with_bins_up_down(masked_MR, clouds_deep, distance_bins, windspeed_avg.item())\n"
   ]
  },
  {
   "cell_type": "code",
   "execution_count": 22,
   "id": "9a13d0db-3e88-4add-9769-a1951dbecf8b",
   "metadata": {},
   "outputs": [],
   "source": [
    "combined_profiles_before_shallow.to_netcdf('./../data/processed_data/vertical_profiles/combined_profiles_before_shallow.nc')\n",
    "combined_profiles_after_shallow.to_netcdf('./../data/processed_data/vertical_profiles/combined_profiles_after_shallow.nc')\n",
    "combined_profiles_before_deep.to_netcdf('./../data/processed_data/vertical_profiles/combined_profiles_before_deep.nc')\n",
    "combined_profiles_after_deep.to_netcdf('./../data/processed_data/vertical_profiles/combined_profiles_after_deep.nc')"
   ]
  },
  {
   "cell_type": "code",
   "execution_count": null,
   "id": "e756e611-f73b-42c8-9c12-ff1a320e2754",
   "metadata": {},
   "outputs": [],
   "source": []
  }
 ],
 "metadata": {
  "kernelspec": {
   "display_name": "1 Python 3 (based on the module python3/2023.01)",
   "language": "python",
   "name": "python3_2023_01"
  },
  "language_info": {
   "codemirror_mode": {
    "name": "ipython",
    "version": 3
   },
   "file_extension": ".py",
   "mimetype": "text/x-python",
   "name": "python",
   "nbconvert_exporter": "python",
   "pygments_lexer": "ipython3",
   "version": "3.10.10"
  }
 },
 "nbformat": 4,
 "nbformat_minor": 5
}
